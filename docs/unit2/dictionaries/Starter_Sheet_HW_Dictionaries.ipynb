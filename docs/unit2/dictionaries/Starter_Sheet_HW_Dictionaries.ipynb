{
  "nbformat": 4,
  "nbformat_minor": 0,
  "metadata": {
    "colab": {
      "provenance": [],
      "include_colab_link": true
    },
    "kernelspec": {
      "name": "python3",
      "display_name": "Python 3"
    },
    "language_info": {
      "name": "python"
    }
  },
  "cells": [
    {
      "cell_type": "markdown",
      "metadata": {
        "id": "view-in-github",
        "colab_type": "text"
      },
      "source": [
        "<a href=\"https://colab.research.google.com/github/tylerpiercy/content/blob/main/docs/unit2/dictionaries/Starter_Sheet_HW_Dictionaries.ipynb\" target=\"_parent\"><img src=\"https://colab.research.google.com/assets/colab-badge.svg\" alt=\"Open In Colab\"/></a>"
      ]
    },
    {
      "cell_type": "code",
      "source": [
        "####  Create your dictionary here  ####\n"
      ],
      "metadata": {
        "id": "XhIZ4BVv0YSU"
      },
      "execution_count": null,
      "outputs": []
    },
    {
      "cell_type": "code",
      "source": [
        "####  Start writing your function here  ####\n",
        "\n",
        "def invoice_calc(MaterialsDictionary,amountmat):\n",
        "  total = 0\n",
        "\n",
        "\n",
        "\n",
        "\n",
        "\n",
        "\n",
        "\n",
        "   return total"
      ],
      "metadata": {
        "id": "reVM4Q5m-Stj"
      },
      "execution_count": null,
      "outputs": []
    },
    {
      "cell_type": "code",
      "source": [
        "####  Test out your function here  ####\n",
        "\n",
        "total = invoice_calc(MaterialsDictionary,4)\n",
        "print(total)"
      ],
      "metadata": {
        "id": "kuJP3uDe-XMo"
      },
      "execution_count": null,
      "outputs": []
    }
  ]
}