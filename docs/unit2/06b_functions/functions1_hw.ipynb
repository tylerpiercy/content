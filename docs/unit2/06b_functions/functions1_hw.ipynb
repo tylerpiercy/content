{
  "nbformat": 4,
  "nbformat_minor": 0,
  "metadata": {
    "colab": {
      "provenance": [],
      "include_colab_link": true
    },
    "kernelspec": {
      "name": "python3",
      "display_name": "Python 3"
    },
    "language_info": {
      "name": "python"
    }
  },
  "cells": [
    {
      "cell_type": "markdown",
      "metadata": {
        "id": "view-in-github",
        "colab_type": "text"
      },
      "source": [
        "<a href=\"https://colab.research.google.com/github/tylerpiercy/content/blob/main/docs/unit2/06b_functions/functions1_hw.ipynb\" target=\"_parent\"><img src=\"https://colab.research.google.com/assets/colab-badge.svg\" alt=\"Open In Colab\"/></a>"
      ]
    },
    {
      "cell_type": "markdown",
      "source": [
        "---\n",
        "\n",
        "**Code Block 1**\n",
        "1. Write a function to convert the area (square-ft) and the depth of gravel (in.) to volume\n",
        "2. Write a function to convert cubic feet to cubic yards\n",
        "3. Write a function to convert the volume of materials in cubic yards to tons\n",
        "4. Write a function to return the cost per ton of different bulk rock products\n",
        "\n",
        "---"
      ],
      "metadata": {
        "id": "hzdTZSp4_nDV"
      }
    },
    {
      "cell_type": "code",
      "execution_count": 1,
      "metadata": {
        "id": "ybedDcXl2nQp"
      },
      "outputs": [],
      "source": [
        "#Start your code here\n",
        "\n",
        "\n",
        "def getArea(x, y):\n",
        "  area = 0\n",
        "  numPoints = len(x)\n",
        "  j = numPoints-1\n",
        "\n",
        "  for i in range(numPoints):\n",
        "    area = area + (x[j] + x[i]) * (y[j] - y[i])\n",
        "    j = i # j is previous vertex to i\n",
        "\n",
        "  area = area/2\n",
        "  return area"
      ]
    },
    {
      "cell_type": "markdown",
      "source": [
        "---\n",
        "\n",
        "**Code Block 2**\n",
        "1. Create a dictionary named \"gravelCosts\" with all the given gravel types and their cost\n",
        "2. Create two variables, \"Gravel\" (for the type of gravel) and \"D\" (depth), and make them both input statements\n",
        "3. Call all five functions to get the answers needed (don't forget to use the parameters)\n",
        "4. Print statements with the input and calculated data and the total cost of the gravel needed\n",
        "\n",
        "---"
      ],
      "metadata": {
        "id": "ZEsnr7I1BqCl"
      }
    },
    {
      "cell_type": "markdown",
      "source": [],
      "metadata": {
        "id": "NLDAyA5yBp-y"
      }
    },
    {
      "cell_type": "code",
      "source": [
        "# Lists of the coordinates of the landscaping area in feet\n",
        "xList = [0, 0,  16, 16, 120, 120, 154, 154, 130, 130, 0]\n",
        "yList = [0, 32, 32, 8,  8,   104, 104, 20,  20,  0,   0]\n",
        "\n",
        "# Start your code here"
      ],
      "metadata": {
        "id": "pyN25fcI129S"
      },
      "execution_count": null,
      "outputs": []
    }
  ]
}