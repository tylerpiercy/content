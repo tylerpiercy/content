{
  "nbformat": 4,
  "nbformat_minor": 0,
  "metadata": {
    "colab": {
      "provenance": [],
      "include_colab_link": true
    },
    "kernelspec": {
      "name": "python3",
      "display_name": "Python 3"
    },
    "language_info": {
      "name": "python"
    }
  },
  "cells": [
    {
      "cell_type": "markdown",
      "metadata": {
        "id": "view-in-github",
        "colab_type": "text"
      },
      "source": [
        "<a href=\"https://colab.research.google.com/github/tylerpiercy/content/blob/main/docs/unit3/01_matplotlib/matplotlib_in_class.ipynb\" target=\"_parent\"><img src=\"https://colab.research.google.com/assets/colab-badge.svg\" alt=\"Open In Colab\"/></a>"
      ]
    },
    {
      "cell_type": "markdown",
      "source": [
        "### Import Statements"
      ],
      "metadata": {
        "id": "lePse1Y0AEvM"
      }
    },
    {
      "cell_type": "code",
      "source": [
        "import matplotlib.pyplot as plt\n",
        "import numpy as np\n",
        "from datetime import datetime\n",
        "\n",
        "import gspread\n",
        "from google.auth import default\n",
        "creds, _ = default()\n",
        "gc = gspread.authorize(creds)\n",
        "from google.colab import auth\n",
        "auth.authenticate_user()"
      ],
      "metadata": {
        "id": "O-XrjUna2AT3"
      },
      "execution_count": null,
      "outputs": []
    },
    {
      "cell_type": "markdown",
      "source": [
        "### Graphing from Lists"
      ],
      "metadata": {
        "id": "vaXFBaJC9XLD"
      }
    },
    {
      "cell_type": "code",
      "execution_count": null,
      "metadata": {
        "id": "fBJ-D3-YzTEA"
      },
      "outputs": [],
      "source": [
        "# This data was taken from the https://data.cuwcd.gov/data/streamflows/index.htm Lower Provo, Deer Creek Reservoir on 8/9/23\n",
        "\n",
        "dates = [\n",
        "    \"2023-07-10\", \"2023-07-11\", \"2023-07-12\", \"2023-07-13\", \"2023-07-14\",\n",
        "    \"2023-07-15\", \"2023-07-16\", \"2023-07-17\", \"2023-07-18\", \"2023-07-19\",\n",
        "    \"2023-07-20\", \"2023-07-21\", \"2023-07-22\", \"2023-07-23\", \"2023-07-24\",\n",
        "    \"2023-07-25\", \"2023-07-26\", \"2023-07-27\", \"2023-07-28\", \"2023-07-29\",\n",
        "    \"2023-07-30\", \"2023-07-31\", \"2023-08-01\", \"2023-08-02\", \"2023-08-03\",\n",
        "    \"2023-08-04\", \"2023-08-05\", \"2023-08-06\", \"2023-08-07\", \"2023-08-08\",\n",
        "    \"2023-08-09\"\n",
        "]\n",
        "\n",
        "water_levels = [\n",
        "    615.274, 596.499, 588.659, 584.785, 608.09, 628.365, 638.522, 610.819,\n",
        "    587.083, 567.035, 518.51, 470.294, 474.717, 487.07, 480.543, 474.57,\n",
        "    476.37, 461.509, 489.171, 537.865, 552.128, 551.204, 553.159, 523.191,\n",
        "    402.031, 329.539, 296.804, 334.32, 448.152, 490.356, 507.519\n",
        "]\n",
        "\n",
        "# Convert date strings to datetime objects formatted for graphs\n",
        "dates = [datetime.strptime(date, \"%Y-%m-%d\") for date in dates]"
      ]
    },
    {
      "cell_type": "markdown",
      "source": [
        "Using the data above, create a bar graph using the list 'dates' as the x-axis and the list 'water_levels' as the y-axis. Add the following elements:\n",
        "\n",
        "*   Title labeled 'Water Levels Over Time (Bar Graph)'\n",
        "*   x-axis labeled 'Date'\n",
        "*   y-axis labeled 'Water Level'\n",
        "*   x-ticks rotated 45 degrees\n",
        "*   Color of your choice"
      ],
      "metadata": {
        "id": "ZSjOuIhG3rpR"
      }
    },
    {
      "cell_type": "code",
      "source": [],
      "metadata": {
        "id": "H4bBnRus6FWt"
      },
      "execution_count": null,
      "outputs": []
    },
    {
      "cell_type": "markdown",
      "source": [
        "This time, create a scatter plot using the list 'dates' as the x-axis and the list 'water_levels' as the y-axis. Add the following elements:\n",
        "\n",
        "*   Title labeled 'Water Levels Over Time (Scatter Plot)'\n",
        "*   x-axis labeled 'Date'\n",
        "*   y-axis labeled 'Water Level'\n",
        "*   x-ticks rotated 45 degrees\n",
        "*   Gridlines\n",
        "*   Diamond-shaped markers with black edges (See https://matplotlib.org/stable/api/markers_api.html)\n",
        "*   Color of your choice"
      ],
      "metadata": {
        "id": "_RryU3nf5frQ"
      }
    },
    {
      "cell_type": "code",
      "source": [],
      "metadata": {
        "id": "O0lKZQXF6Hxr"
      },
      "execution_count": null,
      "outputs": []
    },
    {
      "cell_type": "markdown",
      "source": [
        "Create a line graph using the list 'dates' as the x-axis and the list 'water_levels' as the y-axis. Add the following elements:\n",
        "\n",
        "*   Title labeled 'Water Levels Over Time (Line Graph)'\n",
        "*   x-axis labeled 'Date'\n",
        "*   y-axis labeled 'Water Level'\n",
        "*   x-ticks rotated 45 degrees\n",
        "*   Gridlines\n",
        "*   Star-shaped markers (See https://matplotlib.org/stable/api/markers_api.html)\n",
        "*   Color of your choice"
      ],
      "metadata": {
        "id": "B5f-Mfz57D6E"
      }
    },
    {
      "cell_type": "code",
      "source": [],
      "metadata": {
        "id": "mEDlPd0872F-"
      },
      "execution_count": null,
      "outputs": []
    },
    {
      "cell_type": "markdown",
      "source": [
        "### Graphing from Google Sheets - Part 1\n",
        "\n",
        "You will now create a graph using construction spending data in 2024\n",
        "\n",
        "(Source: https://www.census.gov/construction/c30/historical_data.html)\n",
        "\n",
        "Paste the URL of your Google Sheet in the code below, then run it."
      ],
      "metadata": {
        "id": "vYB0T4IrXj67"
      }
    },
    {
      "cell_type": "code",
      "source": [
        "# wb = gc.open_by_url(\"Insert URL Here\") #Input the URL found in GitHub in this line, then uncomment all lines\n",
        "# construction_spending = wb.get_worksheet(0)\n",
        "# traffic_volume = wb2.get_worksheet(1)"
      ],
      "metadata": {
        "id": "ZlJWLrVj_4H1"
      },
      "execution_count": null,
      "outputs": []
    },
    {
      "cell_type": "markdown",
      "source": [
        "### Numpy Array Creation & Slicing (DO NOT MODIFY)\n",
        "\n",
        "Run the following code block to create the x-axis and the y-axis values. These will correspond to the following columns in the worksheet linked on readthedocs:\n",
        "\n",
        "*   x - Type of Construction\n",
        "*   y_1 - Value (Millions of Dollars)"
      ],
      "metadata": {
        "id": "3xOTRG8KX5fm"
      }
    },
    {
      "cell_type": "code",
      "source": [
        "array = np.array(construction_spending.get_all_values()) #creates a numpy array from the data in the first worksheet\n",
        "x = array[1:, 0] #slices the array to only include the \"Type of Construction\" column\n",
        "y_1 = array[1:,1].astype(float) #slices the array to only include the \"Annual Value\" column and sets the values as floats"
      ],
      "metadata": {
        "id": "Ohyw8c1qXWF4"
      },
      "execution_count": null,
      "outputs": []
    },
    {
      "cell_type": "markdown",
      "source": [
        "### Graphing the Data\n",
        "\n",
        "Plot x and y_1 as a horizontal bar graph with the following elements:\n",
        "\n",
        "*   Title labeled 'Annual Construction Spending in 2024'\n",
        "*   x-axis labeled 'Value (Millions of Dollars)'\n",
        "*   y-axis labeled 'Type of Construction'\n",
        "*   Colors of your choice"
      ],
      "metadata": {
        "id": "Hoyc81gEYVxh"
      }
    },
    {
      "cell_type": "code",
      "source": [],
      "metadata": {
        "id": "_a9MiIoHYU7F"
      },
      "execution_count": null,
      "outputs": []
    },
    {
      "cell_type": "markdown",
      "source": [
        "### Graphing from Google Sheets - Part 2\n",
        "\n",
        "You will now create a graph using weekly traffic volume data from interstate highways in 2022\n",
        "\n",
        "(Source: https://catalog.data.gov/dataset/weekly-traffic-volume)\n"
      ],
      "metadata": {
        "id": "0PA3HUWR9vSd"
      }
    },
    {
      "cell_type": "markdown",
      "source": [
        "### Numpy Array Creation & Slicing (DO NOT MODIFY)\n",
        "\n",
        "Run the following code block to create the x-axis and the y-axis values. These will correspond to the following columns in the worksheet linked on readthedocs:\n",
        "\n",
        "*   x - Weeks in 2022\n",
        "*   y_1 - % Change All Vehicles\n",
        "*   y_2 - % Change Passenger\n",
        "*   y_3 - % Change Truck"
      ],
      "metadata": {
        "id": "WB9ezo-NAQ0q"
      }
    },
    {
      "cell_type": "code",
      "source": [
        "array = np.array(traffic_volume.get_all_values()) #creates a numpy array from the data in the second worksheet\n",
        "x = array[1:, 0].astype(float) #slices the array to only include the \"Week\" column and sets the values as floats\n",
        "y_1 = array[1:,1].astype(float) #slices the array to only include the \"% Change All Vehicles\" column and sets the values as floats\n",
        "y_2 = array[1:,2].astype(float) #slices the array to only include the \"% Change Passenger\" column and sets the values as floats\n",
        "y_3 = array[1:,3].astype(float) #slices the array to only include the \"% Change Truck\" column and sets the values as floats"
      ],
      "metadata": {
        "id": "jgOCC_O97DdB"
      },
      "execution_count": null,
      "outputs": []
    },
    {
      "cell_type": "markdown",
      "source": [
        "### Graphing the Data\n",
        "\n",
        "Plot x, y_1, y_2, and y_3 with the following elements:\n",
        "\n",
        "*   Title labeled 'Percent Change in VMT over Interstate Highways in 2022'\n",
        "*   x-axis labeled 'Weeks in 2022'\n",
        "*   y-axis labeled '% Increase/Decrease in VMT'\n",
        "*   Legend in upper left corner with a font size of 7\n",
        "*   y_1 labeled '% Change All Vehicles' in legend\n",
        "*   y_2 labeled '% Change Passenger' in legend\n",
        "*   y_3 labeled '% Change Truck' in legend\n",
        "*   An arrow pointing to the highest % change in truck VMT labeled \"Peak % Change\"\n",
        "*   Gridlines\n",
        "*   Colors of your choice\n"
      ],
      "metadata": {
        "id": "AuXaSGBT7_Yh"
      }
    },
    {
      "cell_type": "code",
      "source": [],
      "metadata": {
        "id": "wt5LuLCS-419"
      },
      "execution_count": null,
      "outputs": []
    },
    {
      "cell_type": "markdown",
      "source": [
        "# Styles\n",
        "\n",
        "Change the style (page 306 of Crash Course) and replot the graph from above. You can just copy-and-paste the graphing code.\n",
        "\n",
        "Play with a number of different styles.\n"
      ],
      "metadata": {
        "id": "KsUSUGPapJkA"
      }
    },
    {
      "cell_type": "code",
      "source": [
        "plt.style.available"
      ],
      "metadata": {
        "id": "0WmorThjpNhO",
        "outputId": "27b43ffc-5f80-4806-ec77-00bd93f588bf",
        "colab": {
          "base_uri": "https://localhost:8080/"
        }
      },
      "execution_count": null,
      "outputs": [
        {
          "output_type": "execute_result",
          "data": {
            "text/plain": [
              "['Solarize_Light2',\n",
              " '_classic_test_patch',\n",
              " '_mpl-gallery',\n",
              " '_mpl-gallery-nogrid',\n",
              " 'bmh',\n",
              " 'classic',\n",
              " 'dark_background',\n",
              " 'fast',\n",
              " 'fivethirtyeight',\n",
              " 'ggplot',\n",
              " 'grayscale',\n",
              " 'seaborn-v0_8',\n",
              " 'seaborn-v0_8-bright',\n",
              " 'seaborn-v0_8-colorblind',\n",
              " 'seaborn-v0_8-dark',\n",
              " 'seaborn-v0_8-dark-palette',\n",
              " 'seaborn-v0_8-darkgrid',\n",
              " 'seaborn-v0_8-deep',\n",
              " 'seaborn-v0_8-muted',\n",
              " 'seaborn-v0_8-notebook',\n",
              " 'seaborn-v0_8-paper',\n",
              " 'seaborn-v0_8-pastel',\n",
              " 'seaborn-v0_8-poster',\n",
              " 'seaborn-v0_8-talk',\n",
              " 'seaborn-v0_8-ticks',\n",
              " 'seaborn-v0_8-white',\n",
              " 'seaborn-v0_8-whitegrid',\n",
              " 'tableau-colorblind10']"
            ]
          },
          "metadata": {},
          "execution_count": 21
        }
      ]
    }
  ]
}